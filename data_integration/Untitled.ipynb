{
 "cells": [
  {
   "cell_type": "code",
   "execution_count": 2,
   "id": "500a3be3",
   "metadata": {},
   "outputs": [],
   "source": [
    "import pandas as pd\n",
    "import numpy as np"
   ]
  },
  {
   "cell_type": "code",
   "execution_count": 13,
   "id": "2f2e8d8e",
   "metadata": {},
   "outputs": [],
   "source": [
    "def reformat_date(df):\n",
    "    appoint_date = []\n",
    "    for i in range(len(df)):\n",
    "        day = df[i]\n",
    "        if pd.isna(day):\n",
    "            appoint_date.append(np.nan)  \n",
    "        elif day == 'REDACTED':\n",
    "            appoint_date.append(np.nan)  \n",
    "        elif len(day) == 8:\n",
    "            if int(day[6:8])+2000 > 2021:\n",
    "                appoint_date.append('19'+day[6:8]+'-'+day[0:5])\n",
    "            else: \n",
    "                appoint_date.append('20'+day[6:8]+'-'+day[0:5] )\n",
    "        else:\n",
    "            mon = day[5:8]\n",
    "            if mon == 'JAN':\n",
    "                appoint_date.append(day[0:5]+'01'+day[8:])\n",
    "            elif mon == 'FEB':\n",
    "                appoint_date.append(day[0:5]+'02'+day[8:])\n",
    "            elif mon == 'MAR':\n",
    "                appoint_date.append(day[0:5]+'03'+day[8:])\n",
    "            elif mon == 'APR':\n",
    "                appoint_date.append(day[0:5]+'04'+day[8:])\n",
    "            elif mon == 'MAY':\n",
    "                appoint_date.append(day[0:5]+'05'+day[8:])\n",
    "            elif mon == 'JUN':\n",
    "                appoint_date.append(day[0:5]+'06'+day[8:])\n",
    "            elif mon == 'JUL':\n",
    "                appoint_date.append(day[0:5]+'07'+day[8:])\n",
    "            elif mon == 'AUG':\n",
    "                appoint_date.append(day[0:5]+'08'+day[8:])\n",
    "            elif mon == 'SEP':\n",
    "                appoint_date.append(day[0:5]+'09'+day[8:])\n",
    "            elif mon == 'OCT':\n",
    "                appoint_date.append(day[0:5]+'10'+day[8:])\n",
    "            elif mon == 'NOV':\n",
    "                appoint_date.append(day[0:5]+'11'+day[8:])\n",
    "            elif mon == 'DEC':\n",
    "                appoint_date.append(day[0:5]+'12'+day[8:])\n",
    "    return appoint_date"
   ]
  },
  {
   "cell_type": "code",
   "execution_count": 14,
   "id": "4fb0ad71",
   "metadata": {},
   "outputs": [],
   "source": [
    "df_trr = pd.read_csv(\"trr_trr_refresh.csv\")\n",
    "df_trr['trr_datetime'] = pd.to_datetime(df_trr['trr_datetime'])\n",
    "df_trr['beat'] = df_trr['beat'].astype(int)\n",
    "df_trr['officer_appointed_date'] = pd.to_datetime(reformat_date(df_trr['officer_appointed_date']))\n",
    "df_trr['officer_birth_year'] = df_trr['officer_birth_year'].fillna(0.0).astype(int)\n",
    "df_trr['officer_birth_year'].replace(0, np.nan,inplace=True)\n",
    "df_trr['officer_age'] = df_trr['officer_age'].astype(int)\n",
    "df_trr['officer_on_duty'] = df_trr['officer_on_duty'].astype(bool)\n",
    "df_trr['officer_injured'] = df_trr['officer_injured'].astype(bool)\n",
    "df_trr['officer_in_uniform'] = df_trr['officer_in_uniform'].astype(bool)\n",
    "df_trr['subject_birth_year'] = df_trr['subject_birth_year'].astype(int)\n",
    "df_trr['subject_age'] = df_trr['subject_age'].astype(int)\n",
    "df_trr['subject_armed'] = df_trr['subject_armed'].astype(bool)\n",
    "df_trr['subject_injured'] = df_trr['subject_injured'].astype(bool)\n",
    "df_trr['subject_alleged_injury'] = df_trr['subject_alleged_injury'].astype(bool)\n",
    "df_trr['notify_oemc'] = df_trr['notify_oemc'].astype(bool)\n",
    "df_trr['notify_district_sergeant'] = df_trr['notify_district_sergeant'].astype(bool)\n",
    "df_trr['notify_op_command'] = df_trr['notify_op_command'].astype(bool)\n",
    "df_trr['notify_det_division'] = df_trr['notify_det_division'].astype(bool)\n",
    "df_trr['trr_created'] = pd.to_datetime(df_trr['trr_created'])"
   ]
  },
  {
   "cell_type": "code",
   "execution_count": 15,
   "id": "63db92ed",
   "metadata": {},
   "outputs": [],
   "source": [
    "df_weapondischarge = pd.read_csv(\"trr_weapondischarge_refresh.csv\")\n",
    "df_weapondischarge['firearm_reloaded'] = df_weapondischarge['firearm_reloaded'].astype(bool)\n",
    "df_weapondischarge['sight_used'] = df_weapondischarge['sight_used'].astype(bool)"
   ]
  },
  {
   "cell_type": "code",
   "execution_count": 16,
   "id": "b9019dc5",
   "metadata": {},
   "outputs": [],
   "source": [
    "df_trrstatus = pd.read_csv(\"trr_trrstatus_refresh.csv\")\n",
    "df_trrstatus['officer_appointed_date'] = pd.to_datetime(reformat_date(df_trrstatus['officer_appointed_date']))\n",
    "df_trrstatus['officer_birth_year'] = df_trrstatus['officer_birth_year'].fillna(0).astype(int)\n",
    "df_trrstatus['officer_birth_year'].replace(0, np.nan,inplace=True)\n",
    "df_trrstatus['status_datetime'] = pd.to_datetime(df_trrstatus['status_datetime'])"
   ]
  },
  {
   "cell_type": "code",
   "execution_count": null,
   "id": "56023d61",
   "metadata": {},
   "outputs": [],
   "source": [
    "def reconciliation_race(df):\n",
    "    race_map = dict({'AMER IND/ALASKAN NATIVE':'NATIVE AMERICAN/ALASKAN NATIVE',\n",
    "                'AMER INDIAN / ALASKAN NATIVE':'NATIVE AMERICAN/ALASKAN NATIVE',\n",
    "                'ASIAN / PACIFIC ISLANDER':'ASIAN/PACIFIC ISLANDER',\n",
    "                'ASIAN/PACIFIC ISLANDER':'ASIAN/PACIFIC ISLANDER',\n",
    "                'BLACK':'BLACK',\n",
    "                'UNKNOWN':'NULL',\n",
    "                 'UNKNOWN / REFUSED':'NULL',\n",
    "                 'HISPANIC':'HISPANIC',\n",
    "                 'WHITE':'WHITE'\n",
    "                })\n",
    "    for k in race_map:\n",
    "        if k[0:2] == 'UN':\n",
    "            df.replace(k, np.nan,inplace=True)\n",
    "        else:\n",
    "            df.replace(k,race_map[k] ,inplace=True)\n",
    "\n",
    "reconciliation_race(df_trr['subject_race'])"
   ]
  },
  {
   "cell_type": "code",
   "execution_count": null,
   "id": "1b2ab523",
   "metadata": {},
   "outputs": [],
   "source": [
    "def reconciliation_gender(df):\n",
    "    race_map = dict({'FEMALE':'F',\n",
    "                     'MALE':'M'\n",
    "                })\n",
    "    for k in race_map:\n",
    "        df.replace(k,race_map[k] ,inplace=True)\n",
    "        \n",
    "reconciliation_gender(df_trr['subject_gender'])"
   ]
  },
  {
   "cell_type": "code",
   "execution_count": null,
   "id": "31304703",
   "metadata": {},
   "outputs": [],
   "source": [
    "def reconciliation_birth_year(df):\n",
    "    birth_years = df.to_numpy()\n",
    "    birth_years[birth_years < 100 ] += 1900\n",
    "    birth_years[birth_years < 200 ] *= 10\n",
    "    for i in range(1000,2000,100):\n",
    "        birth_years[birth_years < i ] += 2000-i   \n",
    "    df = pd.DataFrame(birth_years)\n",
    "\n",
    "reconciliation_birth_year(df_trr['subject_birth_year'])"
   ]
  }
 ],
 "metadata": {
  "kernelspec": {
   "display_name": "Python 3",
   "language": "python",
   "name": "python3"
  },
  "language_info": {
   "codemirror_mode": {
    "name": "ipython",
    "version": 3
   },
   "file_extension": ".py",
   "mimetype": "text/x-python",
   "name": "python",
   "nbconvert_exporter": "python",
   "pygments_lexer": "ipython3",
   "version": "3.8.8"
  }
 },
 "nbformat": 4,
 "nbformat_minor": 5
}
