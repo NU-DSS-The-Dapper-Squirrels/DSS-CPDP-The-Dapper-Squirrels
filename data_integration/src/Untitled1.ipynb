{
 "cells": [
  {
   "cell_type": "code",
   "execution_count": 4,
   "id": "3c05dab4-19e0-4c8e-bba9-b69daf63a9b7",
   "metadata": {},
   "outputs": [],
   "source": [
    "import pandas as pd\n",
    "import numpy as np"
   ]
  },
  {
   "cell_type": "code",
   "execution_count": 19,
   "id": "b91f32a0-4dbb-436e-820e-4a99eccaf8b2",
   "metadata": {},
   "outputs": [],
   "source": [
    "# Drop unused key\n",
    "def check_key(df_trr, df_weapondischarge, df_trrstatus, df_actionresponse, df_charge, sub_weapon_refresh):\n",
    "    '''Check if there are unmatched item in supporting tables.'''\n",
    "    # Get unique id of each table key\n",
    "    # Primary key\n",
    "    ancher = set(df_trr.id.unique())\n",
    "    # Foreign Key\n",
    "    weapondischarge_set = set(df_weapondischarge.trr_report_id.unique())\n",
    "    trrstatus_set = set(df_trrstatus.trr_report_id.unique())\n",
    "    actionresponse_set = set(df_actionresponse.trr_report_id.unique())\n",
    "    charge_set = set(df_charge.trr_report_id.unique())\n",
    "    sub_weapon_refresh_set = set(sub_weapon_refresh.trr_report_id.unique())\n",
    "    \n",
    "    # Discard unused keys\n",
    "    discard_item(ancher, weapondischarge_set, df_weapondischarge, )\n",
    "    discard_item(ancher, trrstatus_set, df_trrstatus, )\n",
    "    discard_item(ancher, actionresponse_set, df_actionresponse, )\n",
    "    discard_item(ancher, charge_set, df_charge, )\n",
    "    discard_item(ancher, sub_weapon_refresh_set, sub_weapon_refresh, )\n",
    "    \n",
    "def discard_item(ancher, helper, df_name):\n",
    "    unused = helper - ancher\n",
    "    if len(unused):\n",
    "        print(\"Has unused.\")\n",
    "        print(unused)\n",
    "    else:\n",
    "        print(\"All good.\")\n",
    "    for key in unused:\n",
    "        df_name = df_name[df_name.trr_report_id != key]"
   ]
  },
  {
   "cell_type": "code",
   "execution_count": 20,
   "id": "ba375fc9-1238-42ec-9a7c-ead690affff8",
   "metadata": {},
   "outputs": [
    {
     "name": "stdout",
     "output_type": "stream",
     "text": [
      "All good.\n",
      "Has unused.\n",
      "{105480, 105487}\n",
      "All good.\n",
      "All good.\n",
      "All good.\n"
     ]
    }
   ],
   "source": [
    "df_trr = pd.read_csv(\"../output/trr_trr_refresh_1.csv\")\n",
    "df_trrstatus = pd.read_csv(\"../output/trr_trrstatus_refresh_1.csv\")\n",
    "df_actionresponse = pd.read_csv(\"../output/trr_actionresponse_refresh.csv\")\n",
    "df_charge = pd.read_csv(\"../output/trr_charge_refresh.csv\")\n",
    "sub_weapon_refresh = pd.read_csv(\"../output/sub_weapon_refresh_1.csv\")\n",
    "df_weapondischarge = pd.read_csv(\"../output/trr_weapondischarge_refresh_1.csv\")\n",
    "\n",
    "check_key(df_trr, df_weapondischarge, df_trrstatus, df_actionresponse, df_charge, sub_weapon_refresh)"
   ]
  },
  {
   "cell_type": "code",
   "execution_count": null,
   "id": "0a7e6e5b-4511-42fd-b499-91aca2724c44",
   "metadata": {},
   "outputs": [],
   "source": [
    "# Instructed order.\n",
    "trr_output_order = 'id, crid, event_id, beat, block, direction, street, location, trr_datetime, indoor_or_outdoor, lighting_condition, weather_condition, notify_OEMC, notify_district_sergeant, notify_OP_command, notify_DET_division, party_fired_first, officer_assigned_beat, officer_on_duty, officer_in_uniform, officer_injured, officer_rank, subject_armed, subject_injured, subject_alleged_injury, subject_age, subject_birth_year, subject_gender, subject_race, officer_id, officer_unit_id, officer_unit_detail_id, point'\n",
    "trr_actionresponse_output_order = 'person, resistance_type, action, other_description, trr_id'\n",
    "trr_weapondischarge_output_order = 'weapon_type,weapon_type_description,firearm_make,firearm_model,firearm_barrel_length,firearm_caliber,total_number_of_shots,firearm_reloaded,number_of_cartridge_reloaded,handgun_worn_type,handgun_drawn_type,method_used_to_reload,sight_used,protective_cover_used,discharge_distance,object_struck_of_discharge,discharge_position,trr_id'\n",
    "trr_trrstatus_output_order = 'rank, star, status, status_datetime, officer_id, trr_id'\n",
    "trr_subjectweapon_output_order = 'weapon_type, firearm_caliber, weapon_description, trr_id'\n",
    "\n",
    "# Rename columns.\n",
    "df_trr_new.rename({'id_x': 'id', 'event_number': 'event_id',\n",
    "                   'cr_number':'crid', 'notify_oemc':'notify_OEMC',\n",
    "                   'notify_op_command':'notify_OP_command',\n",
    "                   'notify_det_division':'notify_DET_division'\n",
    "                  }, axis=1, inplace=True)\n",
    "df_actionresponse.rename({'trr_report_id': 'trr_id'\n",
    "                  }, axis=1, inplace=True)\n",
    "df_weapondischarge.rename({'trr_report_id': 'trr_id'\n",
    "                  }, axis=1, inplace=True)\n",
    "df_trrstatus.rename({'officer_rank': 'rank', 'officer_star': 'star',\n",
    "                     'trr_report_id': 'trr_id'\n",
    "                  }, axis=1, inplace=True)\n",
    "sub_weapon_refresh.rename({'trr_report_id': 'trr_id'\n",
    "                  }, axis=1, inplace=True)\n",
    "\n",
    "# Reorder columns\n",
    "df_trr = df_trr_new[trr_output_order.replace(\" \", '').split(',')]\n",
    "df_trrstatus = df_trrstatus[trr_trrstatus_output_order.replace(\" \", '').split(',')]"
   ]
  },
  {
   "cell_type": "code",
   "execution_count": null,
   "id": "053efe63-fac3-4a5e-bb97-199560213751",
   "metadata": {},
   "outputs": [],
   "source": []
  }
 ],
 "metadata": {
  "kernelspec": {
   "display_name": "Python 3 (ipykernel)",
   "language": "python",
   "name": "python3"
  },
  "language_info": {
   "codemirror_mode": {
    "name": "ipython",
    "version": 3
   },
   "file_extension": ".py",
   "mimetype": "text/x-python",
   "name": "python",
   "nbconvert_exporter": "python",
   "pygments_lexer": "ipython3",
   "version": "3.9.2"
  }
 },
 "nbformat": 4,
 "nbformat_minor": 5
}
