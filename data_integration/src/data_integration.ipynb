{
 "cells": [
  {
   "cell_type": "code",
   "execution_count": 1,
   "id": "500a3be3",
   "metadata": {},
   "outputs": [],
   "source": [
    "import pandas as pd\n",
    "import numpy as np\n",
    "import time\n",
    "import collections"
   ]
  },
  {
   "cell_type": "code",
   "execution_count": 371,
   "id": "2f2e8d8e",
   "metadata": {},
   "outputs": [],
   "source": [
    "def reformat_date(df):\n",
    "    appoint_date = []\n",
    "    for i in range(len(df)):\n",
    "        day = df[i]\n",
    "        if pd.isna(day):\n",
    "            appoint_date.append(np.nan)  \n",
    "        elif day == 'REDACTED':\n",
    "            appoint_date.append(np.nan)  \n",
    "        elif len(day) == 8:\n",
    "            if int(day[6:8])+2000 > 2021:\n",
    "                appoint_date.append('19'+day[6:8]+'-'+day[0:5])\n",
    "            else: \n",
    "                appoint_date.append('20'+day[6:8]+'-'+day[0:5] )\n",
    "        else:\n",
    "            mon = day[5:8]\n",
    "            if mon == 'JAN':\n",
    "                appoint_date.append(day[0:5]+'01'+day[8:])\n",
    "            elif mon == 'FEB':\n",
    "                appoint_date.append(day[0:5]+'02'+day[8:])\n",
    "            elif mon == 'MAR':\n",
    "                appoint_date.append(day[0:5]+'03'+day[8:])\n",
    "            elif mon == 'APR':\n",
    "                appoint_date.append(day[0:5]+'04'+day[8:])\n",
    "            elif mon == 'MAY':\n",
    "                appoint_date.append(day[0:5]+'05'+day[8:])\n",
    "            elif mon == 'JUN':\n",
    "                appoint_date.append(day[0:5]+'06'+day[8:])\n",
    "            elif mon == 'JUL':\n",
    "                appoint_date.append(day[0:5]+'07'+day[8:])\n",
    "            elif mon == 'AUG':\n",
    "                appoint_date.append(day[0:5]+'08'+day[8:])\n",
    "            elif mon == 'SEP':\n",
    "                appoint_date.append(day[0:5]+'09'+day[8:])\n",
    "            elif mon == 'OCT':\n",
    "                appoint_date.append(day[0:5]+'10'+day[8:])\n",
    "            elif mon == 'NOV':\n",
    "                appoint_date.append(day[0:5]+'11'+day[8:])\n",
    "            elif mon == 'DEC':\n",
    "                appoint_date.append(day[0:5]+'12'+day[8:])\n",
    "    return appoint_date"
   ]
  },
  {
   "cell_type": "code",
   "execution_count": 372,
   "id": "4fb0ad71",
   "metadata": {},
   "outputs": [
    {
     "name": "stderr",
     "output_type": "stream",
     "text": [
      "/opt/anaconda3/lib/python3.8/site-packages/IPython/core/interactiveshell.py:3165: DtypeWarning: Columns (15) have mixed types.Specify dtype option on import or set low_memory=False.\n",
      "  has_raised = await self.run_ast_nodes(code_ast.body, cell_name,\n"
     ]
    }
   ],
   "source": [
    "df_trr = pd.read_csv(\"data/trr_trr_refresh.csv\")\n",
    "df_trr['trr_datetime'] = pd.to_datetime(df_trr['trr_datetime'])\n",
    "df_trr['beat'] = df_trr['beat'].astype(int)\n",
    "df_trr['officer_appointed_date'] = pd.to_datetime(reformat_date(df_trr['officer_appointed_date'])).strftime('%Y-%m-%d')\n",
    "df_trr['officer_birth_year'] = df_trr['officer_birth_year'].fillna(0.0).astype(int)\n",
    "df_trr['officer_birth_year'].replace(0, np.nan,inplace=True)\n",
    "df_trr['officer_age'] = df_trr['officer_age'].astype(int)\n",
    "df_trr['officer_on_duty'] = df_trr['officer_on_duty'].astype(bool)\n",
    "df_trr['officer_injured'] = df_trr['officer_injured'].astype(bool)\n",
    "df_trr['officer_in_uniform'] = df_trr['officer_in_uniform'].astype(bool)\n",
    "df_trr['subject_birth_year'] = df_trr['subject_birth_year'].astype(int)\n",
    "df_trr['subject_age'] = df_trr['subject_age'].astype(int)\n",
    "df_trr['subject_armed'] = df_trr['subject_armed'].astype(bool)\n",
    "df_trr['subject_injured'] = df_trr['subject_injured'].astype(bool)\n",
    "df_trr['subject_alleged_injury'] = df_trr['subject_alleged_injury'].astype(bool)\n",
    "df_trr['notify_oemc'] = df_trr['notify_oemc'].astype(bool)\n",
    "df_trr['notify_district_sergeant'] = df_trr['notify_district_sergeant'].astype(bool)\n",
    "df_trr['notify_op_command'] = df_trr['notify_op_command'].astype(bool)\n",
    "df_trr['notify_det_division'] = df_trr['notify_det_division'].astype(bool)\n",
    "df_trr['trr_created'] = pd.to_datetime(df_trr['trr_created'])"
   ]
  },
  {
   "cell_type": "code",
   "execution_count": 373,
   "id": "63db92ed",
   "metadata": {},
   "outputs": [],
   "source": [
    "df_weapondischarge = pd.read_csv(\"data/trr_weapondischarge_refresh.csv\")\n",
    "df_weapondischarge['firearm_reloaded'] = df_weapondischarge['firearm_reloaded'].astype(bool)\n",
    "df_weapondischarge['sight_used'] = df_weapondischarge['sight_used'].astype(bool)"
   ]
  },
  {
   "cell_type": "code",
   "execution_count": 375,
   "id": "b9019dc5",
   "metadata": {},
   "outputs": [],
   "source": [
    "df_trrstatus =pd.read_csv(\"data/trr_trrstatus_refresh.csv\")\n",
    "df_trrstatus['officer_appointed_date'] = pd.to_datetime(reformat_date(df_trrstatus['officer_appointed_date'])).strftime('%Y-%m-%d')\n",
    "df_trrstatus['officer_birth_year'] = df_trrstatus['officer_birth_year'].fillna(0).astype(int)\n",
    "df_trrstatus['officer_birth_year'].replace(0, np.nan,inplace=True)\n",
    "df_trrstatus['status_datetime'] = pd.to_datetime(df_trrstatus['status_datetime'])"
   ]
  },
  {
   "cell_type": "code",
   "execution_count": 377,
   "id": "56023d61",
   "metadata": {},
   "outputs": [],
   "source": [
    "def reconciliation_race(df):\n",
    "    race_map = dict({'AMER IND/ALASKAN NATIVE':'NATIVE AMERICAN/ALASKAN NATIVE',\n",
    "                'AMER INDIAN / ALASKAN NATIVE':'NATIVE AMERICAN/ALASKAN NATIVE',\n",
    "                'ASIAN / PACIFIC ISLANDER':'ASIAN/PACIFIC ISLANDER',\n",
    "                'ASIAN/PACIFIC ISLANDER':'ASIAN/PACIFIC ISLANDER',\n",
    "                'BLACK':'BLACK',\n",
    "                'UNKNOWN':'NULL',\n",
    "                 'UNKNOWN / REFUSED':'NULL',\n",
    "                 'HISPANIC':'HISPANIC',\n",
    "                 'WHITE':'WHITE'\n",
    "                })\n",
    "    for k in race_map:\n",
    "        if k[0:2] == 'UN':\n",
    "            df.replace(k, np.nan,inplace=True)\n",
    "        else:\n",
    "            df.replace(k,race_map[k] ,inplace=True)\n",
    "\n",
    "reconciliation_race(df_trr['subject_race'])"
   ]
  },
  {
   "cell_type": "code",
   "execution_count": 378,
   "id": "1b2ab523",
   "metadata": {},
   "outputs": [],
   "source": [
    "def reconciliation_gender(df):\n",
    "    race_map = dict({'FEMALE':'F',\n",
    "                     'MALE':'M'\n",
    "                })\n",
    "    for k in race_map:\n",
    "        df.replace(k,race_map[k] ,inplace=True)\n",
    "        \n",
    "reconciliation_gender(df_trr['subject_gender'])"
   ]
  },
  {
   "cell_type": "code",
   "execution_count": 379,
   "id": "31304703",
   "metadata": {},
   "outputs": [],
   "source": [
    "def reconciliation_birth_year(df):\n",
    "    birth_years = df.to_numpy()\n",
    "    birth_years[birth_years < 100 ] += 1900\n",
    "    birth_years[birth_years < 200 ] *= 10\n",
    "    for i in range(1000,2000,100):\n",
    "        birth_years[birth_years < i ] += 2000-i   \n",
    "    df = pd.DataFrame(birth_years)\n",
    "    \n",
    "    \n",
    "reconciliation_birth_year(df_trrstatus['officer_birth_year'])\n",
    "reconciliation_birth_year(df_trr['subject_birth_year'])"
   ]
  },
  {
   "cell_type": "code",
   "execution_count": 380,
   "id": "7c303230",
   "metadata": {},
   "outputs": [],
   "source": [
    "# Indoor/outdoor change specific column.\n",
    "df_trr.loc[(df_trr.indoor_or_outdoor == 'OUTDOOR'), 'indoor_or_outdoor'] = 'Outdoor'\n",
    "df_trr.loc[(df_trr.indoor_or_outdoor == 'INDOOR'), 'indoor_or_outdoor'] = 'Indoor'\n",
    "\n",
    "# Street. 1. change to camel case\n",
    "df_trr['street'] = df_trr['street'].str.title()\n",
    "\n",
    "# location. 1. change to camel case 2. change specific items to the correct form.\n",
    "df_trr['location'] = df_trr['location'].str.title()\n",
    "\n",
    "df_trr.loc[(df_trr.location == 'Cha Hallway / Stairwell / Elevator'), 'location'] = 'Cha Hallway/Stairwell/Elevator'\n",
    "df_trr.loc[(df_trr.location == 'Cha Parking Lot / Grounds'), 'location'] = 'Cha Parking Lot/Grounds'\n",
    "df_trr.loc[(df_trr.location == 'Church / Synagogue / Place Of Worship'), 'location'] = 'Church/Synagogue/Place Of Worship'\n",
    "df_trr.loc[(df_trr.location == 'College / University - Grounds'), 'location'] = 'College/University Grounds'\n",
    "df_trr.loc[(df_trr.location == 'Factory / Manufacturing Building'), 'location'] = 'Factory/Manufacturing Building'\n",
    "df_trr.loc[(df_trr.location == 'Government Building / Property'), 'location'] = 'Government Building/Property'\n",
    "df_trr.loc[(df_trr.location == 'Highway / Expressway'), 'location'] = 'Highway/Expressway'\n",
    "df_trr.loc[(df_trr.location == 'Hospital Building / Grounds'), 'location'] = 'Hospital Building/Grounds'\n",
    "df_trr.loc[(df_trr.location == 'Hotel / Motel'), 'location'] = 'Hotel/Motel'\n",
    "df_trr.loc[(df_trr.location == 'Movie House / Theater'), 'location'] = 'Movie House/Theater'\n",
    "df_trr.loc[(df_trr.location == 'Nursing / Retirement Home'), 'location'] = 'Nursing Home/Retirement Home'\n",
    "df_trr.loc[(df_trr.location == 'Other (Specify)'), 'location'] = 'Other'\n",
    "df_trr.loc[(df_trr.location == 'Other Railroad Property / Train Depot'), 'location'] = 'Other Railroad Prop / Train Depot'\n",
    "df_trr.loc[(df_trr.location == 'Parking Lot / Garage (Non Residential)'), 'location'] = 'Parking Lot/Garage(Non.Resid.)'\n",
    "df_trr.loc[(df_trr.location == 'Other Railroad Property / Train Depot'), 'location'] = 'Other Railroad Prop / Train Depot'\n",
    "df_trr.loc[(df_trr.location == 'Police Facility / Vehicle Parking Lot'), 'location'] = 'Police Facility/Veh Parking Lot'\n",
    "df_trr.loc[(df_trr.location == 'Residence - Porch / Hallway'), 'location'] = 'Residence Porch/Hallway'\n",
    "df_trr.loc[(df_trr.location == 'Residence - Garage'), 'location'] = 'Residence-Garage'\n",
    "df_trr.loc[(df_trr.location == 'Residence - Yard (Front / Back)'), 'location'] = 'Residential Yard (Front/Back)'\n",
    "df_trr.loc[(df_trr.location == 'School - Private Building'), 'location'] = 'School, Private, Building'\n",
    "df_trr.loc[(df_trr.location == 'School - Private Grounds'), 'location'] = 'School, Private, Grounds'\n",
    "df_trr.loc[(df_trr.location == 'School - Public Building'), 'location'] = 'School, Public, Building'\n",
    "df_trr.loc[(df_trr.location == 'School - Public Grounds'), 'location'] = 'School, Public, Grounds'\n",
    "df_trr.loc[(df_trr.location == 'Sports Arena / Stadium'), 'location'] = 'Sports Arena/Stadium'\n",
    "df_trr.loc[(df_trr.location == 'Tavern / Liquor Store'), 'location'] = 'Tavern/Liquor Store'\n",
    "df_trr.loc[(df_trr.location == 'Vacant Lot / Land'), 'location'] = 'Vacant Lot/Land'\n",
    "df_trr.loc[(df_trr.location == 'Vehicle - Other Ride Share Service (Lyft, Uber, Etc.)'), 'location'] = 'Vehicle - Other Ride Service'\n",
    "df_trr.loc[(df_trr.location == 'Vehicle - Commercial'), 'location'] = 'Vehicle-Commercial'\n",
    "df_trr.loc[(df_trr.location == 'Cta Parking Lot / Garage / Other Property'), 'location'] = 'Cta Garage / Other Property'\n",
    "df_trr.loc[(df_trr.location == 'Lakefront / Waterfront / Riverbank'), 'location'] = 'Lakefront/Waterfront/Riverbank'\n",
    "df_trr.loc[(df_trr.location == 'Medical / Dental Office'), 'location'] = 'Medical/Dental Office'\n",
    "df_trr.loc[(df_trr.location == 'Airport Parking Lot'), 'location'] = 'Airport/Aircraft'\n",
    "df_trr.loc[(df_trr.location == 'Airport Terminal Mezzanine - Non-Secure Area'), 'location'] = 'Airport Terminal Lower Level - Non-Secure Area'\n",
    "\n",
    "\n",
    "# birth year\n",
    "def age_sanity(row):\n",
    "    if row < 100:\n",
    "        return 1900 + row\n",
    "    if 100 <= row < 1900:\n",
    "        return 1900 + row % 100\n",
    "    return row\n",
    "\n",
    "df_trr.subject_birth_year = df_trr.subject_birth_year.apply(age_sanity)\n"
   ]
  },
  {
   "cell_type": "code",
   "execution_count": 381,
   "id": "3a31bec4",
   "metadata": {},
   "outputs": [],
   "source": [
    "# Read weapon file.\n",
    "sub_weapon_refresh = pd.read_csv(\"data/trr_subjectweapon_refresh.csv\")\n",
    "# sub_weapon = pd.read_csv(\"../../trr_subjectweapon.csv\")\n",
    "\n",
    "# Weapon, change specific items to the correct form.\n",
    "sub_weapon_refresh.loc[(sub_weapon_refresh.weapon_type == 'CHEMICAL WEAPON') | (sub_weapon_refresh.weapon_type == 'TASER / STUN GUN'), 'weapon_type'] = 'OTHER (SPECIFY)'\n",
    "sub_weapon_refresh.loc[(sub_weapon_refresh.weapon_type == 'VEHICLE'), 'weapon_type'] = 'VEHICLE - ATTEMPTED TO STRIKE OFFICER WITH VEHICLE'\n"
   ]
  },
  {
   "cell_type": "code",
   "execution_count": 382,
   "id": "6a2c9e1a",
   "metadata": {},
   "outputs": [],
   "source": [
    "df_trr[\"suffix_name\"] = \"NULL\"\n",
    "df_trrstatus[\"suffix_name\"] = \"NULL\"\n",
    "def update_last_suffix(df):\n",
    "    suffix_list = [\"I\", \"II\", \"III\", \"IV\", \"V\", \"JR\", \"SR\"]\n",
    "    officer_last_name = []\n",
    "    suffix_name = []\n",
    "    for i in df['officer_last_name']:\n",
    "        target_str = i.upper().split(\" \")\n",
    "        if len(target_str) > 1:\n",
    "            k = 0\n",
    "            for j in suffix_list:\n",
    "                if j == ''.join(e for e in target_str[-1] if e.isalnum()):\n",
    "                    # print(''.join(e for e in target_str[-1] if e.isalnum()))\n",
    "                    suffix_name.append(j)\n",
    "                    k +=1\n",
    "            if k == 0 :\n",
    "                suffix_name.append(None)\n",
    "            officer_last_name.append(' '.join(target_str).title())\n",
    "        else:\n",
    "            officer_last_name.append(i.title())\n",
    "            suffix_name.append(None)\n",
    "    df['officer_last_name'] = officer_last_name\n",
    "    df['suffix_name'] = suffix_name\n",
    "\n",
    "update_last_suffix(df_trrstatus)\n",
    "update_last_suffix(df_trr)"
   ]
  },
  {
   "cell_type": "code",
   "execution_count": 383,
   "id": "c69805ca",
   "metadata": {},
   "outputs": [],
   "source": [
    "def update_first_name(df):\n",
    "    officer_first_name = []\n",
    "    for i in df['officer_first_name']:\n",
    "        officer_first_name.append(i.title())\n",
    "    df['officer_first_name'] = officer_first_name\n",
    "\n",
    "update_first_name(df_trrstatus)\n",
    "update_first_name(df_trr)"
   ]
  },
  {
   "cell_type": "code",
   "execution_count": 384,
   "id": "3e549802",
   "metadata": {},
   "outputs": [],
   "source": [
    "def update_race(df):\n",
    "    race_map = dict({'AMER IND/ALASKAN NATIVE':'Native American/Alaskan Native',\n",
    "                'ASIAN/PACIFIC ISLANDER':'Asian/Pacific',\n",
    "                'BLACK':'Black',\n",
    "                'UNKNOWN':'Unknown',\n",
    "                 'HISPANIC':'Hispanic',\n",
    "                 'WHITE':'White',\n",
    "                     'WHITE HISPANIC':'Hispanic',\n",
    "                     'BLACK HISPANIC':'Hispanic'\n",
    "                    \n",
    "                })\n",
    "    for k in race_map:\n",
    "        df.replace(k,race_map[k] ,inplace=True)\n",
    "        \n",
    "        \n",
    "update_race(df_trrstatus)\n",
    "update_race(df_trr)"
   ]
  },
  {
   "cell_type": "code",
   "execution_count": 385,
   "id": "3e36dc8e",
   "metadata": {},
   "outputs": [
    {
     "name": "stderr",
     "output_type": "stream",
     "text": [
      "/opt/anaconda3/lib/python3.8/site-packages/IPython/core/interactiveshell.py:3165: DtypeWarning: Columns (14) have mixed types.Specify dtype option on import or set low_memory=False.\n",
      "  has_raised = await self.run_ast_nodes(code_ast.body, cell_name,\n"
     ]
    }
   ],
   "source": [
    "df_officer = pd.read_csv(\"data/data_officer.csv\")\n",
    "fields = ['first_name', 'middle_initial', 'last_name',\n",
    "          'suffix_name', 'birth_year', 'appointed_date', 'gender', 'race']\n",
    "officer_fields = ['officer_first_name', 'officer_middle_initial', 'officer_last_name', \n",
    "          'suffix_name', 'officer_birth_year', 'officer_appointed_date', 'officer_gender', 'officer_race']"
   ]
  },
  {
   "cell_type": "code",
   "execution_count": 386,
   "id": "34a520af",
   "metadata": {},
   "outputs": [],
   "source": [
    "df_officer.fillna(value=np.nan, inplace=True)\n",
    "df_trr.fillna(value=np.nan, inplace=True)"
   ]
  },
  {
   "cell_type": "code",
   "execution_count": 393,
   "id": "7eb11888",
   "metadata": {},
   "outputs": [],
   "source": [
    "df_trr[\"officer_id\"] = \"NULL\"\n",
    "\n",
    "index= []\n",
    "value = []\n",
    "officer_id = []\n",
    "for i, officer in df_trr.iterrows():\n",
    "    trr = np.zeros(len(df_officer))\n",
    "    for j in range(8):\n",
    "        trr += (pd.isna(df_officer[fields[j]]) | pd.isna(officer[officer_fields[j]])).to_numpy()*0.9\n",
    "        trr += (df_officer[fields[j]] == officer[officer_fields[j]]).to_numpy()\n",
    "    temp = np.argmax(trr)\n",
    "    value.append(trr[temp])\n",
    "    index.append(temp)\n",
    "    officer_id.append(df_officer.loc[index[i]]['id'])\n",
    "    \n",
    "df_trr[\"officer_id\"]  = officer_id"
   ]
  },
  {
   "cell_type": "code",
   "execution_count": 320,
   "id": "e0393a19",
   "metadata": {},
   "outputs": [
    {
     "name": "stdout",
     "output_type": "stream",
     "text": [
      "True\n",
      "first_name: John, John\n",
      "False\n",
      "middle_initial: nan, F\n",
      "True\n",
      "last_name: Clark, Clark\n",
      "False\n",
      "suffix_name: nan, nan\n",
      "False\n",
      "birth_year: nan, 1970.0\n",
      "True\n",
      "appointed_date: 1993-05-17, 1993-05-17\n",
      "True\n",
      "gender: M, M\n",
      "True\n",
      "race: White, White\n"
     ]
    }
   ],
   "source": [
    "# for row in [300]:\n",
    "#     for j in range(8):\n",
    "#         print(df_officer.loc[index[row]][fields[j]] == df_trr.loc[row][officer_fields[j]])\n",
    "#         print(\"{}: {}, {}\".format(fields[j], df_trr.loc[row][officer_fields[j]], df_officer.loc[index[row]][fields[j]]))"
   ]
  },
  {
   "cell_type": "code",
   "execution_count": 402,
   "id": "8e755e67",
   "metadata": {},
   "outputs": [
    {
     "name": "stdout",
     "output_type": "stream",
     "text": [
      "0.9775551102204408 17073\n"
     ]
    }
   ],
   "source": [
    "c = collections.Counter(value)\n",
    "vaild = 0\n",
    "total = 0\n",
    "for i in c:\n",
    "    if i > 6.3:\n",
    "          vaild +=c[i]\n",
    "    total +=c[i]\n",
    "print(vaild/total,vaild)"
   ]
  },
  {
   "cell_type": "code",
   "execution_count": 405,
   "id": "55edd7b8",
   "metadata": {},
   "outputs": [],
   "source": [
    "df_trrstatus[\"officer_id\"] = \"NULL\"\n",
    "s = time.time()\n",
    "index1= []\n",
    "value1 = []\n",
    "officer_id1 = []\n",
    "for i, officer in df_trrstatus.iterrows():\n",
    "    trr = np.zeros(len(df_officer))\n",
    "    for j in range(8):\n",
    "        trr += (pd.isna(df_officer[fields[j]]) | pd.isna(officer[officer_fields[j]])).to_numpy()*0.9\n",
    "        trr += (df_officer[fields[j]] == officer[officer_fields[j]]).to_numpy()\n",
    "    temp = np.argmax(trr)\n",
    "    value1.append(trr[temp])\n",
    "    index1.append(temp)\n",
    "    officer_id1.append(df_officer.loc[index1[i]]['id'])\n",
    "e = time.time()   \n",
    "df_trrstatus[\"officer_id\"]  = officer_id1"
   ]
  },
  {
   "cell_type": "code",
   "execution_count": 407,
   "id": "bcf5afe4",
   "metadata": {},
   "outputs": [
    {
     "name": "stdout",
     "output_type": "stream",
     "text": [
      "0.9871247340635095 62638\n"
     ]
    }
   ],
   "source": [
    "c1 = collections.Counter(value1)\n",
    "\n",
    "vaild1 = 0\n",
    "total1 = 0\n",
    "for i in c1:\n",
    "    if i > 6.3:\n",
    "          vaild1 +=c1[i]\n",
    "    total1 +=c1[i]\n",
    "print(vaild1/total1,vaild1)"
   ]
  }
 ],
 "metadata": {
  "kernelspec": {
   "display_name": "Python 3",
   "language": "python",
   "name": "python3"
  },
  "language_info": {
   "codemirror_mode": {
    "name": "ipython",
    "version": 3
   },
   "file_extension": ".py",
   "mimetype": "text/x-python",
   "name": "python",
   "nbconvert_exporter": "python",
   "pygments_lexer": "ipython3",
   "version": "3.8.8"
  }
 },
 "nbformat": 4,
 "nbformat_minor": 5
}
